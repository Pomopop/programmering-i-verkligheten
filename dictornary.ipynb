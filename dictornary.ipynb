{
 "metadata": {
  "language_info": {
   "codemirror_mode": {
    "name": "ipython",
    "version": 3
   },
   "file_extension": ".py",
   "mimetype": "text/x-python",
   "name": "python",
   "nbconvert_exporter": "python",
   "pygments_lexer": "ipython3",
   "version": "3.8.3-final"
  },
  "orig_nbformat": 2,
  "kernelspec": {
   "name": "python3",
   "display_name": "Python 3.8.3 64-bit (conda)",
   "metadata": {
    "interpreter": {
     "hash": "006a761dfdd3377fd678190bcbaa5cc18048ffb93548205824df5e9f5fedbacd"
    }
   }
  }
 },
 "nbformat": 4,
 "nbformat_minor": 2,
 "cells": [
  {
   "cell_type": "code",
   "execution_count": 5,
   "metadata": {},
   "outputs": [
    {
     "output_type": "stream",
     "name": "stdout",
     "text": [
      "100\n100\n100\n100\n100\n100\n150\n100\n"
     ]
    }
   ],
   "source": [
    "#uppgift 1)\n",
    "\n",
    "kurser = {\n",
    "    \"matte4\":100,\n",
    "    \"Programmering1\":100,\n",
    "    \"webbutveckling1\":100,\n",
    "    \"svenska2\":100,\n",
    "    \"engelska6\":100,\n",
    "    \"DAODAC\":100,\n",
    "    \"Fysik1\":150,\n",
    "    \"idrott1\":100\n",
    "}\n",
    "\n",
    "\n",
    "for x in kurser:\n",
    "    print(kurser[x])\n",
    "\n",
    "\n",
    "#print(kurser[\"matte4\"])"
   ]
  },
  {
   "cell_type": "code",
   "execution_count": null,
   "metadata": {},
   "outputs": [],
   "source": []
  }
 ]
}