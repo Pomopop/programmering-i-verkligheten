{
 "metadata": {
  "language_info": {
   "codemirror_mode": {
    "name": "ipython",
    "version": 3
   },
   "file_extension": ".py",
   "mimetype": "text/x-python",
   "name": "python",
   "nbconvert_exporter": "python",
   "pygments_lexer": "ipython3",
   "version": "3.8.3-final"
  },
  "orig_nbformat": 2,
  "kernelspec": {
   "name": "python3",
   "display_name": "Python 3",
   "language": "python"
  }
 },
 "nbformat": 4,
 "nbformat_minor": 2,
 "cells": [
  {
   "cell_type": "code",
   "execution_count": 1,
   "metadata": {},
   "outputs": [
    {
     "output_type": "stream",
     "name": "stdout",
     "text": [
      "åldern ska vara ett tal och inte en string\n"
     ]
    },
    {
     "output_type": "error",
     "ename": "NameError",
     "evalue": "name 'ålder' is not defined",
     "traceback": [
      "\u001b[1;31m---------------------------------------------------------------------------\u001b[0m",
      "\u001b[1;31mNameError\u001b[0m                                 Traceback (most recent call last)",
      "\u001b[1;32m<ipython-input-1-fba7a936f5f1>\u001b[0m in \u001b[0;36m<module>\u001b[1;34m\u001b[0m\n\u001b[0;32m     13\u001b[0m \u001b[1;33m\u001b[0m\u001b[0m\n\u001b[0;32m     14\u001b[0m \u001b[1;33m\u001b[0m\u001b[0m\n\u001b[1;32m---> 15\u001b[1;33m \u001b[1;32mif\u001b[0m \u001b[0målder\u001b[0m \u001b[1;33m>=\u001b[0m \u001b[1;36m18\u001b[0m\u001b[1;33m:\u001b[0m\u001b[1;33m\u001b[0m\u001b[1;33m\u001b[0m\u001b[0m\n\u001b[0m\u001b[0;32m     16\u001b[0m     \u001b[0mprint\u001b[0m\u001b[1;33m(\u001b[0m\u001b[1;34m\"du är vuxen\"\u001b[0m\u001b[1;33m)\u001b[0m\u001b[1;33m\u001b[0m\u001b[1;33m\u001b[0m\u001b[0m\n\u001b[0;32m     17\u001b[0m \u001b[1;32melse\u001b[0m\u001b[1;33m:\u001b[0m\u001b[1;33m\u001b[0m\u001b[1;33m\u001b[0m\u001b[0m\n",
      "\u001b[1;31mNameError\u001b[0m: name 'ålder' is not defined"
     ]
    }
   ],
   "source": [
    "while True:\n",
    "    try:\n",
    "        ålder = float(input(\"HUr gammal är du\"))\n",
    "        break\n",
    "        assert ålder >= 0 and ålder <= 124, \"din ålder ska vara mellan 0 och 124\"\n",
    "        break #hoppar ur while satsen\n",
    "    except AssertionError as msg:\n",
    "         print(msg)\n",
    "         break\n",
    "    except:\n",
    "        print(\"åldern ska vara ett tal och inte en string\")\n",
    "        break\n",
    "\n",
    "\n",
    "if ålder >= 18:\n",
    "    print(\"du är vuxen\")\n",
    "else:\n",
    "    print(\"du är ett barn\")"
   ]
  },
  {
   "cell_type": "code",
   "execution_count": 20,
   "metadata": {},
   "outputs": [
    {
     "output_type": "stream",
     "name": "stdout",
     "text": [
      "0.7071067811865476\n"
     ]
    }
   ],
   "source": [
    "#upgift 1\n",
    "# a^2 + b^2 = c^2\n",
    "import numpy as np\n",
    "\n",
    "def distance(x,y):\n",
    "    return np.sqrt(x**2+y**2)\n",
    "        \n",
    "        \n",
    "print(distance(0.5,0.5))"
   ]
  },
  {
   "cell_type": "code",
   "execution_count": 25,
   "metadata": {},
   "outputs": [
    {
     "output_type": "stream",
     "name": "stdout",
     "text": [
      "100 är ej fyrsiffrigt\n231 är ej fyrsiffrigt\n10000 är ej fyrsiffrigt\n10001 är ej fyrsiffrigt\n-1000 är fyrsiffrigt\n102313 är ej fyrsiffrigt\n"
     ]
    }
   ],
   "source": [
    "#uppgift 2\n",
    "\n",
    "def ar_fyrsiffrigt(tal):\n",
    "    if tal/1000 < 10 and tal/1000 >1:\n",
    "        return True\n",
    "    elif tal/1000 < 0 and tal/1000 > -10 and tal/1000 <= -1:\n",
    "        return True\n",
    "    else:\n",
    "        return False\n",
    "        \n",
    "\n",
    "\n",
    "testtal = [100,231,10000,10001,-1000,102313]\n",
    "\n",
    "for t in testtal:\n",
    "    if ar_fyrsiffrigt(t):\n",
    "        print(f\"{t} är fyrsiffrigt\")\n",
    "    else:\n",
    "        print(f\"{t} är ej fyrsiffrigt\")\n"
   ]
  },
  {
   "cell_type": "code",
   "execution_count": 80,
   "metadata": {},
   "outputs": [
    {
     "output_type": "stream",
     "name": "stdout",
     "text": [
      "Du kan inte åka spårvagn negativt många gånger\n",
      "din kostnad är -4.0 och ett månadskort kostar 2.0 du borde inte köpa ett månadskort\n"
     ]
    }
   ],
   "source": [
    "#uppgift 3:\n",
    "while True:\n",
    "    try:\n",
    "        resor = float(input(\"Hur många gånger vill du åka spårvagn\"))\n",
    "        assert resor >=0, \"Du kan inte åka spårvagn negativt många gånger\"\n",
    "    except AssertionError as msg:\n",
    "        print(msg)\n",
    "    except:\n",
    "        print(\"Antalet resor måste vara ett nummer, inte ett string\")\n",
    "    try:  \n",
    "        engångkostnad = float(input(\"Vad kostar en biljett?\"))\n",
    "        assert engångkostnad >=0, \"du kan inte betala en negativ summa\"\n",
    "    except AssertionError as msg:\n",
    "        print(msg)\n",
    "    except:\n",
    "        print(\"Antalet resor måste vara ett nummer, inte ett string\")\n",
    "    try:\n",
    "        månadskostnad = float(input(\"Vad kostar en månad\"))\n",
    "        assert månadskostnad >=0, \"Du kan inte betala en negativ summa\"\n",
    "    except AssertionError as msg:\n",
    "        print(msg)\n",
    "    except:\n",
    "        print(\"Antalet resor måste vara ett nummer, inte ett string\")\n",
    "\n",
    "    \n",
    "    \n",
    "if resor*engångkostnad > månadskostnad:\n",
    "    print(f\"din kostnad är {resor*engångkostnad} och ett månadskort kostar {månadskostnad} Du borde köpa ett månadskort\")\n",
    "elif resor*engångkostnad < månadskostnad:\n",
    "    print(f\"din kostnad är {resor*engångkostnad} och ett månadskort kostar {månadskostnad} du borde inte köpa ett månadskort\")"
   ]
  },
  {
   "cell_type": "code",
   "execution_count": null,
   "metadata": {},
   "outputs": [],
   "source": []
  }
 ]
}