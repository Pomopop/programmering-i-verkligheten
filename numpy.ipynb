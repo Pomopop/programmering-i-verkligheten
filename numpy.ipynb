{
 "metadata": {
  "language_info": {
   "codemirror_mode": {
    "name": "ipython",
    "version": 3
   },
   "file_extension": ".py",
   "mimetype": "text/x-python",
   "name": "python",
   "nbconvert_exporter": "python",
   "pygments_lexer": "ipython3",
   "version": "3.8.3-final"
  },
  "orig_nbformat": 2,
  "kernelspec": {
   "name": "python3",
   "display_name": "Python 3.8.3 64-bit (conda)",
   "metadata": {
    "interpreter": {
     "hash": "006a761dfdd3377fd678190bcbaa5cc18048ffb93548205824df5e9f5fedbacd"
    }
   }
  }
 },
 "nbformat": 4,
 "nbformat_minor": 2,
 "cells": [
  {
   "cell_type": "code",
   "execution_count": 8,
   "metadata": {},
   "outputs": [
    {
     "output_type": "stream",
     "name": "stdout",
     "text": [
      "[0. 0. 0. 0. 0. 0.]\n",
      "[16704. 16653. 16702. 16666. 16651. 16644.]\n",
      "[0.16704 0.16653 0.16702 0.16666 0.16651 0.16644]\n"
     ]
    }
   ],
   "source": [
    "import numpy as np\n",
    "import random as rnd\n",
    "\n",
    "utfall = np.zeros(6)\n",
    "antal_kast = 100000\n",
    "\n",
    "print(utfall)\n",
    "utfall[2] = 20\n",
    "\n",
    "for i in range(antal_kast):\n",
    "    kast = rnd.randint(1,6)\n",
    "    utfall[kast-1] += 1\n",
    "\n",
    "print(f\"tärningskast{utfall}\")\n",
    "print(f\"sannolikhet{utfall/antal_kast}\")"
   ]
  },
  {
   "cell_type": "code",
   "execution_count": null,
   "metadata": {},
   "outputs": [],
   "source": []
  }
 ]
}